{
 "cells": [
  {
   "cell_type": "markdown",
   "metadata": {},
   "source": [
    "# Mentium Take Home Test\n",
    "\n",
    "## Challenge Specification\n",
    "\n",
    "1. Create a simple convolutional network (with 3-5 total layers) to classify MNIST dataset.\n",
    "2. Set up the training and validation flow and train the network on the MNIST dataset.\n",
    "3. Calculate the network classification performance on the validation and training datasets.\n",
    "4. Calculate the network size in Kbytes.\n",
    "5. Perform an 8-bit post-training quantization of the trained network and recalculate the network\n",
    "size in KB and its classification performance.\n",
    "6. Perform an 8-bit quantization-aware training on the original network and recalculate the network\n",
    "size in KB and its classification performance after the network is trained."
   ]
  },
  {
   "cell_type": "markdown",
   "metadata": {},
   "source": [
    "Each task in this spec is marked as [<TASK_NUMBER>] in the code below."
   ]
  },
  {
   "cell_type": "markdown",
   "metadata": {},
   "source": [
    "## Considerations and Constraints\n",
    "\n",
    "1. I am opting to use ready-made library to handle the dataset.\n",
    "2. I am opting to use PyTorch as required to build the model.\n",
    "3. All quantization will be done using PyTorch quantization tools only.\n",
    "4. I am opting to not implement early stopping. This requires selection of the parameter to be emphasized."
   ]
  },
  {
   "cell_type": "code",
   "execution_count": 1,
   "metadata": {},
   "outputs": [],
   "source": [
    "# Imports\n",
    "\n",
    "import os\n",
    "import json\n",
    "import torch\n",
    "import torch.nn as nn\n",
    "\n",
    "torch.manual_seed(0)\n",
    "\n",
    "from torchvision.datasets import MNIST\n",
    "from torchvision import transforms\n",
    "from sklearn.model_selection import KFold\n",
    "\n",
    "import torch.utils\n",
    "import torch.utils.data\n",
    "\n",
    "from tqdm.notebook import tqdm\n",
    "\n",
    "import copy\n",
    "\n",
    "# Quantization\n",
    "import torch.ao.quantization"
   ]
  },
  {
   "cell_type": "code",
   "execution_count": 2,
   "metadata": {},
   "outputs": [],
   "source": [
    "# Configuration\n",
    "\n",
    "FP32_TRAIN_EPOCHS = 10\n",
    "BATCH_SIZE = 64\n",
    "CROSS_VALIDATION_FOLDS = 5\n",
    "LEARNING_RATE = 0.0001\n",
    "FINE_LOG_INTERVAL = 1000\n",
    "FINE_LOG_OUT = False\n",
    "QUANTIZATION_TRAIN_EPOCHS = 5"
   ]
  },
  {
   "cell_type": "markdown",
   "metadata": {},
   "source": [
    "## Model Architecture"
   ]
  },
  {
   "cell_type": "markdown",
   "metadata": {},
   "source": [
    "[1]"
   ]
  },
  {
   "cell_type": "code",
   "execution_count": 3,
   "metadata": {},
   "outputs": [],
   "source": [
    "# If batch size is large(I believe the threshold where it becomes necessary for this model would be 128/256), then batchnorm must be used.\n",
    "\n",
    "class MNISTClassifier(nn.Module):\n",
    "    def __init__(self):\n",
    "        super(MNISTClassifier, self).__init__()\n",
    "        self.conv1 = nn.Conv2d(1, 32, 3, padding=1)\n",
    "        self.relu1 = nn.ReLU()\n",
    "        \n",
    "        self.maxpool_pad = nn.MaxPool2d(2, padding=1)\n",
    "        \n",
    "        self.conv2 = nn.Conv2d(32, 64, 3, padding=1)\n",
    "        self.relu2 = nn.ReLU()\n",
    "        \n",
    "        self.maxpool = nn.MaxPool2d(2)\n",
    "        self.conv3 = nn.Conv2d(64, 128, 3, padding=1)\n",
    "        self.relu3 = nn.ReLU()\n",
    "        \n",
    "        self.fc1 = nn.Linear(128 * 4 * 4, 128)\n",
    "        self.fc2 = nn.Linear(128, 10)\n",
    "        self.softmax = nn.Softmax(dim=1)\n",
    "        \n",
    "    def forward(self, x):\n",
    "        x = self.conv1(x)\n",
    "        x = self.relu1(x)\n",
    "        \n",
    "        x = self.maxpool_pad(x)\n",
    "        \n",
    "        x = self.conv2(x)\n",
    "        x = self.relu2(x)\n",
    "        \n",
    "        x = self.maxpool_pad(x)\n",
    "        \n",
    "        x = self.conv3(x)\n",
    "        x = self.relu3(x)\n",
    "        \n",
    "        x = self.maxpool(x)\n",
    "        \n",
    "        # print(x.shape)\n",
    "        x = torch.flatten(x, 1)\n",
    "        x = self.fc1(x)\n",
    "        x = self.fc2(x)\n",
    "        x = self.softmax(x)\n",
    "        return x\n",
    "    \n",
    "    def predict(self, x):\n",
    "        with torch.no_grad():\n",
    "            return torch.argmax(self.forward(x), 1)"
   ]
  },
  {
   "cell_type": "markdown",
   "metadata": {},
   "source": [
    "## Data Preparation"
   ]
  },
  {
   "cell_type": "code",
   "execution_count": 4,
   "metadata": {},
   "outputs": [],
   "source": [
    "transforms_ = transforms.Compose([\n",
    "    transforms.ToTensor(),\n",
    "    transforms.Normalize((0.1307,), (0.3081,))\n",
    "])\n",
    "\n",
    "dataset = MNIST(root='data', download=True, transform=transforms_)\n",
    "\n",
    "# Cross Validation Split\n",
    "kfold = KFold(n_splits=CROSS_VALIDATION_FOLDS, shuffle=True)"
   ]
  },
  {
   "cell_type": "markdown",
   "metadata": {},
   "source": [
    "## Training Loop"
   ]
  },
  {
   "cell_type": "code",
   "execution_count": 5,
   "metadata": {},
   "outputs": [],
   "source": [
    "# Globals to store the best model\n",
    "best_params = {\n",
    "    'model': None,\n",
    "    'accuracy': 0,\n",
    "    'epoch': 0,\n",
    "    'fold': 0,\n",
    "    'training_acc': None,\n",
    "    'val_acc': None\n",
    "}"
   ]
  },
  {
   "cell_type": "markdown",
   "metadata": {},
   "source": [
    "[2], [3]"
   ]
  },
  {
   "cell_type": "code",
   "execution_count": 6,
   "metadata": {},
   "outputs": [
    {
     "data": {
      "application/vnd.jupyter.widget-view+json": {
       "model_id": "f6c343b09a634ad396d404be9c7f75e6",
       "version_major": 2,
       "version_minor": 0
      },
      "text/plain": [
       "Folds:   0%|          | 0/5 [00:00<?, ?it/s]"
      ]
     },
     "metadata": {},
     "output_type": "display_data"
    },
    {
     "data": {
      "application/vnd.jupyter.widget-view+json": {
       "model_id": "b3586a7047e4453285e772b51d972cca",
       "version_major": 2,
       "version_minor": 0
      },
      "text/plain": [
       "Epochs (Fold - 0):   0%|          | 0/10 [00:00<?, ?it/s]"
      ]
     },
     "metadata": {},
     "output_type": "display_data"
    },
    {
     "data": {
      "application/vnd.jupyter.widget-view+json": {
       "model_id": "067890b1fcfe42f29763ac8e9a43be3a",
       "version_major": 2,
       "version_minor": 0
      },
      "text/plain": [
       "Epochs (Fold - 1):   0%|          | 0/10 [00:00<?, ?it/s]"
      ]
     },
     "metadata": {},
     "output_type": "display_data"
    },
    {
     "data": {
      "application/vnd.jupyter.widget-view+json": {
       "model_id": "3d3469c661d74c31a4565f2abcdfc2ba",
       "version_major": 2,
       "version_minor": 0
      },
      "text/plain": [
       "Epochs (Fold - 2):   0%|          | 0/10 [00:00<?, ?it/s]"
      ]
     },
     "metadata": {},
     "output_type": "display_data"
    },
    {
     "data": {
      "application/vnd.jupyter.widget-view+json": {
       "model_id": "53c884cf7f174caf85ce62ec59a90f66",
       "version_major": 2,
       "version_minor": 0
      },
      "text/plain": [
       "Epochs (Fold - 3):   0%|          | 0/10 [00:00<?, ?it/s]"
      ]
     },
     "metadata": {},
     "output_type": "display_data"
    },
    {
     "data": {
      "application/vnd.jupyter.widget-view+json": {
       "model_id": "b4e6643bccd0493da55f4129c9e1285a",
       "version_major": 2,
       "version_minor": 0
      },
      "text/plain": [
       "Epochs (Fold - 4):   0%|          | 0/10 [00:00<?, ?it/s]"
      ]
     },
     "metadata": {},
     "output_type": "display_data"
    },
    {
     "name": "stdout",
     "output_type": "stream",
     "text": [
      "Best Model : \n",
      "{\n",
      "    \"accuracy\": 0,\n",
      "    \"epoch\": 9,\n",
      "    \"fold\": 4,\n",
      "    \"training_acc\": null,\n",
      "    \"val_acc\": 0.9860833333333333,\n",
      "    \"training_loss\": -0.9844926595687866,\n",
      "    \"val_loss\": -0.9998673796653748\n",
      "}\n"
     ]
    }
   ],
   "source": [
    "# Updated train and test functions with kfold\n",
    "\n",
    "import torch.utils.data.dataloader\n",
    "\n",
    "if not os.path.exists('checkpoints'):\n",
    "    os.makedirs('checkpoints')\n",
    "\n",
    "def reset_model_params(model):\n",
    "    for layer in model.children():\n",
    "        if hasattr(layer, 'reset_parameters'):\n",
    "            layer.reset_parameters()\n",
    "\n",
    "def train(model, train_loader, loss_fn, device):\n",
    "    model.train()\n",
    "    model.to(device)\n",
    "    for i, data in enumerate(train_loader):\n",
    "            X, y = data\n",
    "            X, y = X.to(device), y.to(device)\n",
    "            optimizer.zero_grad()\n",
    "            y_pred = model(X)\n",
    "            loss = loss_fn(y_pred, y)\n",
    "            loss.backward()\n",
    "            optimizer.step()\n",
    "            loss_val = loss.item()\n",
    "            \n",
    "            if (i % FINE_LOG_INTERVAL == 0) and FINE_LOG_OUT:\n",
    "                print(f\"Loss: {loss_val}\")\n",
    "                \n",
    "    return loss_val\n",
    "        \n",
    "def validate(model, test_loader, loss_fn, device):\n",
    "    model.eval()\n",
    "    for X, y in test_loader:\n",
    "        X, y = X.to(device), y.to(device)\n",
    "        y_pred = model.forward(X)\n",
    "        loss = loss_fn(y_pred, y)\n",
    "    val_loss = loss.item()\n",
    "    return val_loss\n",
    "\n",
    "def test_acc(model, test_loader, device):\n",
    "    # Validation\n",
    "    model.eval()\n",
    "    with torch.no_grad():\n",
    "        correct = 0\n",
    "        total = 0\n",
    "        for X, y in test_loader:\n",
    "            X, y = X.to(device), y.to(device)\n",
    "            y_pred = model.predict(X)\n",
    "            correct += torch.sum(y_pred == y).item()\n",
    "            total += y.size(0)\n",
    "        accuracy = correct / total\n",
    "        # print(f\"Accuracy: {accuracy}\")\n",
    "        \n",
    "    return accuracy\n",
    "\n",
    "device = torch.device('cuda' if torch.cuda.is_available() else 'cpu')\n",
    "\n",
    "for fold, (train_idx, test_idx) in (fold_pbar := tqdm(\n",
    "    enumerate(kfold.split(dataset)), \n",
    "    total=CROSS_VALIDATION_FOLDS, \n",
    "    position=0,\n",
    "    desc=\"Folds\")):\n",
    "    # print(f\"Fold {fold}\")\n",
    "    sample_train, sample_test = torch.utils.data.SubsetRandomSampler(train_idx), torch.utils.data.SubsetRandomSampler(test_idx)\n",
    "    \n",
    "    train_loader = torch.utils.data.DataLoader(dataset, batch_size=BATCH_SIZE, sampler=sample_train)\n",
    "    test_loader = torch.utils.data.DataLoader(dataset, batch_size=BATCH_SIZE, sampler=sample_test)\n",
    "    \n",
    "    model = MNISTClassifier()\n",
    "    if torch.cuda.is_available():\n",
    "        model.cuda()\n",
    "    model.apply(reset_model_params)\n",
    "    \n",
    "    loss_fn = nn.NLLLoss()\n",
    "    optimizer = torch.optim.Adam(model.parameters(), lr=0.0001)\n",
    "    \n",
    "    for epoch in (epoch_pbar := tqdm(\n",
    "        range(FP32_TRAIN_EPOCHS), \n",
    "        position=1, \n",
    "        desc=\"Epochs (Fold - {})\".format(fold),\n",
    "        )):\n",
    "        # print(f\"Epoch {epoch}\")\n",
    "        loss_val = train(model, train_loader, loss_fn, device=device)\n",
    "        val_loss = validate(model, test_loader, loss_fn=loss_fn, device=device)\n",
    "        val_acc = test_acc(model, test_loader, device=device)\n",
    "        \n",
    "        epoch_pbar.set_postfix({\n",
    "            'Loss': loss_val,\n",
    "            'Val Loss': val_loss,\n",
    "            'Val Acc': val_acc\n",
    "        })\n",
    "      \n",
    "        if best_params['val_acc'] is None or val_acc > best_params['val_acc'] :\n",
    "            best_params['model'] = model\n",
    "            best_params['epoch'] = epoch\n",
    "            best_params['fold'] = fold\n",
    "            best_params['training_loss'] = loss_val\n",
    "            best_params['val_loss'] = val_loss\n",
    "            best_params['val_acc'] = val_acc  \n",
    "            \n",
    "            # epoch_pbar.set_postfix({\n",
    "            #     'Best Accuracy': best_params['val_acc'],\n",
    "            #     'Best Epoch': best_params['epoch']\n",
    "            # })\n",
    "\n",
    "print(\"Best Model : \")\n",
    "print(json.dumps({k:best_params[k] for k in best_params.keys() if 'model' not in k}, indent=4))\n",
    "\n",
    "# Save the best model\n",
    "torch.save(best_params['model'].state_dict(), f\"checkpoints/best_model.pth\")"
   ]
  },
  {
   "cell_type": "markdown",
   "metadata": {},
   "source": [
    "Cross validation is only meant to validate the model. \n",
    "I choose to pick the best model based on the validation accuracy since that instance of the model likely is the best possibility."
   ]
  },
  {
   "cell_type": "markdown",
   "metadata": {},
   "source": [
    "## Network Size Calculation\n",
    "\n",
    "1. The network size will be calculated using the `torchsummary` library. While this is not extremely difficult to implement, I am opting to use the library to save time.\n",
    "2. The network size will be calculated in KBytes.\n",
    "\n",
    "NOTE: This library does not support quantized models. The weights calculation functions is implemented later in the file.\n",
    "\n",
    "[4] - Partial - Please look for the next [4] for the full implementation.\n"
   ]
  },
  {
   "cell_type": "code",
   "execution_count": 7,
   "metadata": {},
   "outputs": [
    {
     "name": "stdout",
     "output_type": "stream",
     "text": [
      "==========================================================================================\n",
      "Layer (type:depth-idx)                   Output Shape              Param #\n",
      "==========================================================================================\n",
      "MNISTClassifier                          [1, 10]                   --\n",
      "├─Conv2d: 1-1                            [1, 32, 28, 28]           320\n",
      "├─ReLU: 1-2                              [1, 32, 28, 28]           --\n",
      "├─MaxPool2d: 1-3                         [1, 32, 15, 15]           --\n",
      "├─Conv2d: 1-4                            [1, 64, 15, 15]           18,496\n",
      "├─ReLU: 1-5                              [1, 64, 15, 15]           --\n",
      "├─MaxPool2d: 1-6                         [1, 64, 8, 8]             --\n",
      "├─Conv2d: 1-7                            [1, 128, 8, 8]            73,856\n",
      "├─ReLU: 1-8                              [1, 128, 8, 8]            --\n",
      "├─MaxPool2d: 1-9                         [1, 128, 4, 4]            --\n",
      "├─Linear: 1-10                           [1, 128]                  262,272\n",
      "├─Linear: 1-11                           [1, 10]                   1,290\n",
      "├─Softmax: 1-12                          [1, 10]                   --\n",
      "==========================================================================================\n",
      "Total params: 356,234\n",
      "Trainable params: 356,234\n",
      "Non-trainable params: 0\n",
      "Total mult-adds (Units.MEGABYTES): 9.40\n",
      "==========================================================================================\n",
      "Input size (MB): 0.00\n",
      "Forward/backward pass size (MB): 0.38\n",
      "Params size (MB): 1.42\n",
      "Estimated Total Size (MB): 1.81\n",
      "==========================================================================================\n"
     ]
    }
   ],
   "source": [
    "import torchinfo\n",
    "\n",
    "summary = torchinfo.summary(model, input_size = (1, 1, 28, 28))\n",
    "print(summary)"
   ]
  },
  {
   "cell_type": "markdown",
   "metadata": {},
   "source": [
    "## Quantization\n",
    "\n",
    "### Post-Training Quantization [5]"
   ]
  },
  {
   "cell_type": "code",
   "execution_count": 8,
   "metadata": {},
   "outputs": [
    {
     "name": "stderr",
     "output_type": "stream",
     "text": [
      "/media/thameem/data1/workspace/mentium_takehome/venv/lib/python3.11/site-packages/torch/ao/quantization/observer.py:220: UserWarning: Please use quant_min and quant_max to specify the range for observers.                     reduce_range will be deprecated in a future release of PyTorch.\n",
      "  warnings.warn(\n"
     ]
    }
   ],
   "source": [
    "import torch.ao.quantization\n",
    "\n",
    "# NOTE: This is not working as expected due to pytorch expecting the dequant to precede the softmax layer \n",
    "# class MNISTClassificationPostTrainingStatic(MNISTClassifier):\n",
    "#     def __init__(self, model_file):\n",
    "#         super(MNISTClassificationPostTrainingStatic, self).__init__()\n",
    "#         self.quant = torch.ao.quantization.QuantStub()\n",
    "#         self.dequant = torch.ao.quantization.DeQuantStub()\n",
    "#         self.model = MNISTClassifier()\n",
    "#         self.model.load_state_dict(torch.load(model_file))\n",
    "        \n",
    "#     def forward(self, x):\n",
    "#         x = self.quant(x)\n",
    "#         x = self.model(x)\n",
    "#         x = self.dequant(x)\n",
    "#         return x\n",
    "    \n",
    "#     def predict(self, x):\n",
    "#         with torch.no_grad():\n",
    "#             return torch.argmax(self.forward(x), 1)\n",
    "\n",
    "class MNISTClassificationQuantize(nn.Module):\n",
    "    def __init__(self, weight_path) -> None:\n",
    "        super(MNISTClassificationQuantize, self).__init__()\n",
    "        self.conv1 = nn.Conv2d(1, 32, 3, padding=1)\n",
    "        self.relu1 = nn.ReLU() # Cannot use the same relu layer as the quantization expects the relu to be fused with the conv layer\n",
    "        \n",
    "        self.maxpool_pad = nn.MaxPool2d(2, padding=1)\n",
    "        \n",
    "        self.conv2 = nn.Conv2d(32, 64, 3, padding=1)\n",
    "        self.relu2 = nn.ReLU()\n",
    "        \n",
    "        self.maxpool = nn.MaxPool2d(2)\n",
    "        self.conv3 = nn.Conv2d(64, 128, 3, padding=1)\n",
    "        self.relu3 = nn.ReLU()\n",
    "        \n",
    "        self.fc1 = nn.Linear(128 * 4 * 4, 128)\n",
    "        self.fc2 = nn.Linear(128, 10)\n",
    "        self.softmax = nn.Softmax(dim=1)\n",
    "        \n",
    "        self.quant = torch.ao.quantization.QuantStub()\n",
    "        self.dequant = torch.ao.quantization.DeQuantStub()\n",
    "        \n",
    "        self.load_state_dict(torch.load(weight_path))\n",
    "        \n",
    "    def forward(self, x):\n",
    "        x = self.quant(x)\n",
    "        x = self.conv1(x)\n",
    "        x = self.relu1(x)\n",
    "        \n",
    "        x = self.maxpool_pad(x)\n",
    "        \n",
    "        x = self.conv2(x)\n",
    "        x = self.relu2(x)\n",
    "        \n",
    "        x = self.maxpool_pad(x)\n",
    "        \n",
    "        x = self.conv3(x)\n",
    "        x = self.relu3(x)\n",
    "        \n",
    "        x = self.maxpool(x)\n",
    "        \n",
    "        x = torch.flatten(x, 1)\n",
    "        x = self.fc1(x)\n",
    "        x = self.fc2(x)\n",
    "        x = self.dequant(x)\n",
    "        x = self.softmax(x)\n",
    "        return x\n",
    "    \n",
    "    def predict(self, x):\n",
    "        with torch.no_grad():\n",
    "            return torch.argmax(self.forward(x), 1)\n",
    "        \n",
    "model_fp32 = MNISTClassificationQuantize('checkpoints/best_model.pth')\n",
    "\n",
    "model_fp32.eval()\n",
    "model_fp32.qconfig = torch.ao.quantization.get_default_qconfig('x86')\n",
    "model_fp32_fused = torch.ao.quantization.fuse_modules(\n",
    "    model_fp32, [\n",
    "        ['conv1', 'relu1'], \n",
    "        ['conv2', 'relu2'], \n",
    "        ['conv3', 'relu3']\n",
    "        ])\n",
    "model_fp32_prepared = torch.ao.quantization.prepare(model_fp32_fused)\n",
    "\n",
    "# The model needs to be run on valid data to record the quantization parameters.\n",
    "# Running it on random data will yield extremely poor results\n",
    "\n",
    "for t_index, (X, y) in enumerate(train_loader):\n",
    "    model_fp32_prepared(X)\n",
    "    if t_index == 100:\n",
    "        break\n",
    "\n",
    "model_int8_quantized_ptsq = torch.ao.quantization.convert(model_fp32_prepared)\n",
    "\n",
    "res = model_int8_quantized_ptsq(torch.rand(1, 1, 28, 28))"
   ]
  },
  {
   "cell_type": "markdown",
   "metadata": {},
   "source": [
    "ONNX Exports\n",
    "\n",
    "I prefer ONNX models to better understand the model structure and to be able to use the model in other frameworks. "
   ]
  },
  {
   "cell_type": "code",
   "execution_count": 9,
   "metadata": {},
   "outputs": [],
   "source": [
    "best_model_fp32 = MNISTClassifier()\n",
    "best_model_fp32.load_state_dict(torch.load('checkpoints/best_model.pth'))\n",
    "torch.onnx.export(\n",
    "    best_model_fp32,\n",
    "    torch.rand(1, 1, 28, 28),\n",
    "    'model_fp32.onnx',\n",
    "    export_params=True,\n",
    ")\n",
    "torch.save(model.state_dict(), 'model_best_fp32.pth')"
   ]
  },
  {
   "cell_type": "code",
   "execution_count": 10,
   "metadata": {},
   "outputs": [],
   "source": [
    "torch.onnx.export(\n",
    "    model_int8_quantized_ptsq,\n",
    "    torch.randn(1, 1, 28, 28),\n",
    "    'model_int8_ptsq_quantized.onnx',\n",
    "    export_params=True,\n",
    ")\n",
    "torch.save(model_int8_quantized_ptsq.state_dict(), 'model_int8_quantized_ptsq.pth')"
   ]
  },
  {
   "cell_type": "markdown",
   "metadata": {},
   "source": [
    "## QAT - Quantization Aware Training\n",
    "\n",
    " - As with the post-training quantization, I will use the PyTorch quantization tools to perform the quantization aware training.\n",
    " - The quantization aware training is best done as a fine-tune step rather than training from scratch.\n",
    "\n",
    "[6]"
   ]
  },
  {
   "cell_type": "code",
   "execution_count": 11,
   "metadata": {},
   "outputs": [
    {
     "data": {
      "application/vnd.jupyter.widget-view+json": {
       "model_id": "19f5df3c37bd45149092e60d9c1b1275",
       "version_major": 2,
       "version_minor": 0
      },
      "text/plain": [
       "QAT Epochs:   0%|          | 0/5 [00:00<?, ?it/s]"
      ]
     },
     "metadata": {},
     "output_type": "display_data"
    },
    {
     "name": "stdout",
     "output_type": "stream",
     "text": [
      "Best Model : \n",
      "{\n",
      "    \"accuracy\": 0,\n",
      "    \"epoch\": 0,\n",
      "    \"fold\": 4,\n",
      "    \"training_acc\": null,\n",
      "    \"val_acc\": 0.9860833333333333,\n",
      "    \"training_loss\": -0.97747802734375,\n",
      "    \"val_loss\": -0.9649658203125\n",
      "}\n"
     ]
    }
   ],
   "source": [
    "# Quantization Aware Training\n",
    "\n",
    "model_fp32 = MNISTClassificationQuantize('checkpoints/best_model.pth')\n",
    "model_fp32.train()\n",
    "model_fp32.qconfig = torch.ao.quantization.get_default_qconfig('x86')\n",
    "model_fp32_fused = torch.ao.quantization.fuse_modules(\n",
    "    model_fp32, [\n",
    "        ['conv1', 'relu1'], \n",
    "        ['conv2', 'relu2'], \n",
    "        ['conv3', 'relu3']\n",
    "        ])\n",
    "model_fp32_qat_prepared = torch.ao.quantization.prepare_qat(model_fp32_fused)\n",
    "\n",
    "qat_best_params = {\n",
    "    'accuracy': 0,\n",
    "    'epoch': 0,\n",
    "    'fold': 0,\n",
    "    'training_acc': None,\n",
    "    'val_acc': None\n",
    "}\n",
    "\n",
    "qat_device = torch.device('cpu') # Choosing CPU for now\n",
    "\n",
    "qat_best_model = None\n",
    "\n",
    "# K Fold not needed as we are using the best model\n",
    "for epoch in (qat_pbar := tqdm(range(QUANTIZATION_TRAIN_EPOCHS), desc=\"QAT Epochs\", position=0)):\n",
    "    loss_val = train(model_fp32_qat_prepared, train_loader, loss_fn, device=qat_device)\n",
    "    val_loss = validate(model_fp32_qat_prepared, test_loader, loss_fn=loss_fn, device=qat_device)\n",
    "    val_acc = test_acc(model_fp32_qat_prepared, test_loader, device=qat_device)\n",
    "    \n",
    "    if qat_best_params['val_acc'] is None or val_acc > qat_best_params['val_acc'] :\n",
    "        qat_best_model = copy.deepcopy(model_fp32_qat_prepared) # This works as the model is tiny. For much larger models, it'd best to save the state_dict to disk and track that only\n",
    "        qat_best_params['epoch'] = epoch\n",
    "        qat_best_params['fold'] = fold\n",
    "        qat_best_params['training_loss'] = loss_val\n",
    "        qat_best_params['val_loss'] = val_loss\n",
    "        qat_best_params['val_acc'] = val_acc\n",
    "        \n",
    "        qat_pbar.set_postfix({\n",
    "            'Best Accuracy': qat_best_params['val_acc'],\n",
    "            'Best Epoch': qat_best_params['epoch']\n",
    "        })\n",
    "        \n",
    "print(\"Best Model : \")\n",
    "print(json.dumps({k:qat_best_params[k] for k in qat_best_params.keys() if 'model' not in k}, indent=4))\n",
    "\n",
    "# Save the best model\n",
    "torch.save(qat_best_model.state_dict(), f\"checkpoints/qat_best_model_fp32.pth\")\n",
    "\n",
    "model_fp32_qat_prepared.eval()\n",
    "model_int8 = torch.ao.quantization.convert(model_fp32_qat_prepared)\n",
    "\n",
    "inp_fp32 = torch.randn(1, 1, 28, 28)\n",
    "res = model_int8(inp_fp32)\n",
    "\n",
    "# Export ONNX\n",
    "torch.onnx.export(\n",
    "    model_int8,\n",
    "    torch.randn(1, 1, 28, 28),\n",
    "    'model_int8_qat_quantized.onnx',\n",
    "    export_params=True,\n",
    ")\n",
    "torch.save(model_int8.state_dict(), 'model_int8_qat_quantized.pth')"
   ]
  },
  {
   "cell_type": "markdown",
   "metadata": {},
   "source": [
    "## Network Size Calculation - Updated"
   ]
  },
  {
   "cell_type": "code",
   "execution_count": 12,
   "metadata": {},
   "outputs": [
    {
     "name": "stdout",
     "output_type": "stream",
     "text": [
      "FP32 Model size :  1391.5390625 Kbytes\n",
      "Quantized INT8 Model size :  348.609375 Kbytes\n"
     ]
    }
   ],
   "source": [
    "\n",
    "def calculate_model_size(model : nn.Module):\n",
    "    model_size = 0\n",
    "    for param in model.parameters():    \n",
    "        model_size += param.numel() * param.element_size()\n",
    "    return model_size\n",
    "\n",
    "def calculate_quantized_model_size(model):\n",
    "    # This only considers the weights and not the biases. That is why the size is smaller\n",
    "    # than the model file size.\n",
    "    model_int8_size = 0\n",
    "    weights = model.state_dict()\n",
    "    for key in weights:\n",
    "        if 'weight' in key:\n",
    "            weight_tensor : torch.Tensor = weights[key]\n",
    "            model_int8_size += weight_tensor.numel() * weight_tensor.element_size()\n",
    "            \n",
    "        if ('packed_params' in key and 'dtype' not in key):\n",
    "            for ele in weights[key]:\n",
    "                if isinstance(ele, torch.Tensor):\n",
    "                    model_int8_size += ele.numel() * ele.element_size()\n",
    "                if isinstance(ele, torch.nn.Parameter):\n",
    "                    model_int8_size += ele.numel() * ele.element_size()\n",
    "        # model_int8_size += weights[key].numel() * weights[key].element_size()\n",
    "    return model_int8_size\n",
    "\n",
    "\n",
    "model_fp32_size = calculate_model_size(model_fp32)\n",
    "model_int8_quantized_ptsq_size = calculate_quantized_model_size(model_int8_quantized_ptsq)\n",
    "model_int8_size = calculate_quantized_model_size(model_int8)\n",
    "\n",
    "print(\"FP32 Model size : \", model_fp32_size / 1024, \"Kbytes\")\n",
    "print(\"Quantized INT8 Model size : \", model_int8_size / 1024, \"Kbytes\")"
   ]
  },
  {
   "cell_type": "code",
   "execution_count": 13,
   "metadata": {},
   "outputs": [
    {
     "name": "stdout",
     "output_type": "stream",
     "text": [
      "FP32 Accuracy :  0.9860833333333333\n",
      "INT8 PTSQ Accuracy :  0.98525\n",
      "INT8 QAT Accuracy :  0.9853333333333333\n",
      "PTSQ Loss in Accuracy :  0.08450942280064423 %\n",
      "QAT Loss in Accuracy :  0.07605848052058092 %\n"
     ]
    }
   ],
   "source": [
    "# Accuracy comparison\n",
    "\n",
    "fp32_acc = test_acc(model, test_loader, device)\n",
    "int8_ptsq_acc = test_acc(model_int8_quantized_ptsq, test_loader, torch.device('cpu'))\n",
    "int8_qat_acc = test_acc(model_int8, test_loader, torch.device('cpu'))\n",
    "\n",
    "print(\"FP32 Accuracy : \", fp32_acc)\n",
    "print(\"INT8 PTSQ Accuracy : \", int8_ptsq_acc)\n",
    "print(\"INT8 QAT Accuracy : \", int8_qat_acc)\n",
    "\n",
    "print(\"PTSQ Loss in Accuracy : \", ((fp32_acc - int8_ptsq_acc )/ fp32_acc) * 100, \"%\")\n",
    "print(\"QAT Loss in Accuracy : \", ((fp32_acc - int8_qat_acc )/ fp32_acc) * 100, \"%\")"
   ]
  },
  {
   "cell_type": "markdown",
   "metadata": {},
   "source": [
    "### Size Difference - Visualization"
   ]
  },
  {
   "cell_type": "code",
   "execution_count": 14,
   "metadata": {},
   "outputs": [
    {
     "data": {
      "image/png": "[encoded data removed]",
      "text/plain": [
       "<Figure size 640x480 with 1 Axes>"
      ]
     },
     "metadata": {},
     "output_type": "display_data"
    }
   ],
   "source": [
    "import matplotlib.pyplot as plt\n",
    "\n",
    "plt.bar(['FP32', 'INT8 PTSQ', 'INT8 QAT'], [model_fp32_size, model_int8_quantized_ptsq_size, model_int8_size])\n",
    "plt.ylabel('Model Size (Kbytes)')\n",
    "plt.title('Model Size Comparison')\n",
    "plt.show()"
   ]
  },
  {
   "cell_type": "code",
   "execution_count": 24,
   "metadata": {},
   "outputs": [
    {
     "data": {
      "image/png": "[encoded data removed]",
      "text/plain": [
       "<Figure size 640x480 with 1 Axes>"
      ]
     },
     "metadata": {},
     "output_type": "display_data"
    }
   ],
   "source": [
    "\n",
    "plt.bar(['FP32', 'INT8 PTSQ', 'INT8 QAT'], [fp32_acc, int8_ptsq_acc, int8_qat_acc])\n",
    "plt.ylim(min([fp32_acc, int8_ptsq_acc, int8_qat_acc])-0.0025, max([fp32_acc, int8_ptsq_acc, int8_qat_acc]) + 0.0015)\n",
    "plt.title(\"Accuracy Comparison\")\n",
    "plt.show()"
   ]
  },
  {
   "cell_type": "markdown",
   "metadata": {},
   "source": [
    "PTSQ performance is quite dependant on the model architecture and the volume of data that is provided for the quantization stubs to observe.\n",
    "While this model does not indicate the a great improvement in performance of QAT over , it is possible that a larger model with more data could show a sizeable improvement over PTSQ."
   ]
  }
 ],
 "metadata": {
  "kernelspec": {
   "display_name": "venv",
   "language": "python",
   "name": "python3"
  },
  "language_info": {
   "codemirror_mode": {
    "name": "ipython",
    "version": 3
   },
   "file_extension": ".py",
   "mimetype": "text/x-python",
   "name": "python",
   "nbconvert_exporter": "python",
   "pygments_lexer": "ipython3",
   "version": "3.11.0rc1"
  }
 },
 "nbformat": 4,
 "nbformat_minor": 2
}
